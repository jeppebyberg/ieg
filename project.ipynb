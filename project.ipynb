{
 "cells": [
  {
   "cell_type": "code",
   "execution_count": 2,
   "metadata": {},
   "outputs": [],
   "source": [
    "import pandas as pd\n",
    "import matplotlib.pyplot as plt\n",
    "from CostGeneration import CostGeneration\n",
    "from DataGeneration import DataGeneration"
   ]
  },
  {
   "cell_type": "markdown",
   "metadata": {},
   "source": [
    "DataGeneration loads the data from:\n",
    "\n",
    "https://data.open-power-system-data.org/time_series/ \n",
    "\n",
    "From this website the years 2015-2020 (2020 only includes data points from 1st of January - 30th of September) are downloaded.\n",
    "For each hour in a given year the load demand, solar profile, wind profile on and offshore are downloaded for Denmark (DK1 and DK2), Germany and Norway\n",
    "\n",
    "# Der er ikke noget data for wind_profile og solar_profile for DK og NO, så jeg har taget det fra capacity, og divideret med maks kapaciteten"
   ]
  },
  {
   "cell_type": "code",
   "execution_count": 15,
   "metadata": {},
   "outputs": [],
   "source": [
    "import pypsa\n",
    "import pandas as pd\n",
    "from CostGeneration import CostGeneration\n",
    "from DataGeneration import DataGeneration\n",
    "\n",
    "class BuildBaseNetwork:\n",
    "    def __init__(self, year: int = 2019, cost_year: int = 2030,\n",
    "                 technology_data = dict, interest_rate = 0.07, \n",
    "                #  carriers: list[str] = [\"onwind\", \"solar\", \"OCGT\", \"CCGT\", \"battery storage\"], \n",
    "                #  multiple_regions = False,\n",
    "                 setup: dict = {'DK': \n",
    "                            {'OCGT': True,\n",
    "                            'CCGT': True,\n",
    "                            'battery storage': True,\n",
    "                            'onwind': True,\n",
    "                            'solar': True}}):\n",
    "        \n",
    "        self.year = year\n",
    "\n",
    "        self.cost_year = cost_year \n",
    "        self.costs = CostGeneration(year = self.cost_year).costs\n",
    "\n",
    "        self.interest_rate = interest_rate\n",
    "\n",
    "        self.setup = setup\n",
    "        self.regions = setup.keys()\n",
    "        \n",
    "        self.network = pypsa.Network()\n",
    "        self.hours_in_year = pd.date_range(f'{year}-01-01 00:00', f'{year}-12-31 23:00', freq='h')\n",
    "        self.network.set_snapshots(self.hours_in_year.values)\n",
    "\n",
    "        self.data_dict = {region : {} for region in self.regions}\n",
    "\n",
    "        self.carriers = ['gas', 'onwind', 'offwind', 'solar']\n",
    "        self.network.add(\"Carrier\", self.carriers, color=[\"dodgerblue\", \"gold\", \"indianred\", \"yellow-green\"], co2_emissions=[self.costs.at[c, \"CO2 intensity\"] for c in self.carriers])\n",
    "\n",
    "        self.add_regions()\n",
    "\n",
    "    def add_regions(self):\n",
    "        for region in self.regions:\n",
    "            data = DataGeneration(year = self.year, region = region)\n",
    "            self.data_dict[region]['Demand'] = data.demand\n",
    "            self.data_dict[region]['solar'] = data.solar\n",
    "            self.data_dict[region]['onwind'] = data.onshore_wind\n",
    "            self.data_dict[region]['offwind'] = data.offshore_wind \n",
    "\n",
    "            self.add_busses(region) # add bus to region bus\n",
    "\n",
    "            technologies = self.setup[region].keys()\n",
    "            for tech in technologies:\n",
    "                self.add_network_technologies(region, tech) # add all regioin technologies\n",
    "\n",
    "    def add_busses(self, region):\n",
    "        self.network.add(\"Bus\", f'electricity bus {region}')\n",
    "        self.network.add(\"Load\", f'load {region}', bus = f'electricity bus {region}', p_set = self.data_dict[region]['Demand'].values.flatten())\n",
    "\n",
    "    def add_network_technologies(self, region, tech):\n",
    "        if tech in ['OCGT', 'CCGT']:\n",
    "            self.network.add(\"Generator\", f'{tech} {region}', \n",
    "                                bus = f'electricity bus {region}', \n",
    "                                p_nom_extendable=True, \n",
    "                                carrier='gas', \n",
    "                                capital_cost = self.costs.at[tech, \"capital_cost\"], \n",
    "                                marginal_cost = self.costs.at[tech, \"marginal_cost\"])\n",
    "        elif tech == 'solar':\n",
    "            self.network.add(\"Generator\",\n",
    "                                f'{tech} {region}', \n",
    "                                bus = f'electricity bus {region}', \n",
    "                                p_nom_extendable=True, \n",
    "                                carrier='solar', \n",
    "                                capital_cost = self.costs.at[tech, \"capital_cost\"], \n",
    "                                marginal_cost = self.costs.at[tech, \"marginal_cost\"],\n",
    "                                p_max_pu = self.data_dict[region]['solar'].values.flatten())     \n",
    "        elif tech == 'onwind':\n",
    "            self.network.add(\"Generator\", f'{tech} {region}', \n",
    "                                bus = f'electricity bus {region}', \n",
    "                                p_nom_extendable=True, \n",
    "                                carrier='onwind', \n",
    "                                capital_cost = self.costs.at[tech, \"capital_cost\"], \n",
    "                                marginal_cost = self.costs.at[tech, \"marginal_cost\"],\n",
    "                                p_max_pu = self.data_dict[region]['onwind'].values.flatten())  \n",
    "        elif tech == 'offwind':\n",
    "            self.network.add(\"Generator\", f'{tech} {region}', \n",
    "                                bus = f'electricity bus {region}', \n",
    "                                p_nom_extendable=True, \n",
    "                                carrier='offwind', \n",
    "                                capital_cost = self.costs.at[tech, \"capital_cost\"], \n",
    "                                marginal_cost = self.costs.at[tech, \"marginal_cost\"],\n",
    "                                p_max_pu = self.data_dict[region]['offwind'].values.flatten())\n",
    "\n",
    "        \n",
    "    # def add_line(self, name, bus0, bus1, length, s_nom):\n",
    "    #     self.network.add(\"Line\", name, bus0, bus1, length=length, s_nom=s_nom)\n",
    "\n",
    "    @staticmethod\n",
    "    def annuity(n, r):\n",
    "        \"\"\" Calculate the annuity factor for an asset with lifetime n years and\n",
    "        discount rate  r \"\"\"\n",
    "\n",
    "        if r > 0:\n",
    "            return r/(1. - 1./(1.+r)**n)\n",
    "        else:\n",
    "            return 1/n\n"
   ]
  },
  {
   "cell_type": "code",
   "execution_count": 16,
   "metadata": {},
   "outputs": [
    {
     "name": "stdout",
     "output_type": "stream",
     "text": [
      "Year 2019 is greater than 2017, using data from last available year.\n"
     ]
    },
    {
     "name": "stderr",
     "output_type": "stream",
     "text": [
      "WARNING:pypsa.consistency:The following buses have carriers which are not defined:\n",
      "Index(['electricity bus DK'], dtype='object', name='Bus')\n",
      "INFO:linopy.model: Solve problem using Gurobi solver\n",
      "INFO:linopy.model:Solver options:\n",
      " - OutputFlag: 0\n",
      "INFO:linopy.io:Writing objective.\n",
      "Writing constraints.: 100%|\u001b[38;2;128;191;255m██████████\u001b[0m| 5/5 [00:00<00:00,  9.68it/s]\n",
      "Writing continuous variables.: 100%|\u001b[38;2;128;191;255m██████████\u001b[0m| 2/2 [00:00<00:00, 19.70it/s]\n",
      "INFO:linopy.io: Writing time: 0.73s\n"
     ]
    },
    {
     "name": "stdout",
     "output_type": "stream",
     "text": [
      "Set parameter Username\n"
     ]
    },
    {
     "name": "stderr",
     "output_type": "stream",
     "text": [
      "INFO:gurobipy:Set parameter Username\n"
     ]
    },
    {
     "name": "stdout",
     "output_type": "stream",
     "text": [
      "Set parameter LicenseID to value 2638559\n"
     ]
    },
    {
     "name": "stderr",
     "output_type": "stream",
     "text": [
      "INFO:gurobipy:Set parameter LicenseID to value 2638559\n"
     ]
    },
    {
     "name": "stdout",
     "output_type": "stream",
     "text": [
      "Academic license - for non-commercial use only - expires 2026-03-19\n"
     ]
    },
    {
     "name": "stderr",
     "output_type": "stream",
     "text": [
      "INFO:gurobipy:Academic license - for non-commercial use only - expires 2026-03-19\n"
     ]
    },
    {
     "name": "stdout",
     "output_type": "stream",
     "text": [
      "Read LP format model from file C:\\Users\\jpspa\\AppData\\Local\\Temp\\linopy-problem-ad0hglva.lp\n"
     ]
    },
    {
     "name": "stderr",
     "output_type": "stream",
     "text": [
      "INFO:gurobipy:Read LP format model from file C:\\Users\\jpspa\\AppData\\Local\\Temp\\linopy-problem-ad0hglva.lp\n"
     ]
    },
    {
     "name": "stdout",
     "output_type": "stream",
     "text": [
      "Reading time = 0.21 seconds\n"
     ]
    },
    {
     "name": "stderr",
     "output_type": "stream",
     "text": [
      "INFO:gurobipy:Reading time = 0.21 seconds\n"
     ]
    },
    {
     "name": "stdout",
     "output_type": "stream",
     "text": [
      "obj: 61323 rows, 26283 columns, 100760 nonzeros\n"
     ]
    },
    {
     "name": "stderr",
     "output_type": "stream",
     "text": [
      "INFO:gurobipy:obj: 61323 rows, 26283 columns, 100760 nonzeros\n",
      "INFO:linopy.constants: Optimization successful: \n",
      "Status: ok\n",
      "Termination condition: optimal\n",
      "Solution: 26283 primals, 61323 duals\n",
      "Objective: 2.13e+09\n",
      "Solver model: available\n",
      "Solver message: 2\n",
      "\n",
      "INFO:pypsa.optimization.optimize:The shadow-prices of the constraints Generator-ext-p-lower, Generator-ext-p-upper were not assigned to the network.\n"
     ]
    },
    {
     "data": {
      "text/plain": [
       "('ok', 'optimal')"
      ]
     },
     "execution_count": 16,
     "metadata": {},
     "output_type": "execute_result"
    }
   ],
   "source": [
    "# example with DK\n",
    "setup = {'DK': \n",
    "                {'OCGT': True,\n",
    "                'solar': True,\n",
    "                'offwind': True},\n",
    "                }\n",
    "\n",
    "tmp = BuildBaseNetwork(setup = setup)\n",
    "tmp.network.optimize(solver_name=\"gurobi\",solver_options={\"OutputFlag\": 0})"
   ]
  },
  {
   "cell_type": "code",
   "execution_count": 18,
   "metadata": {},
   "outputs": [
    {
     "name": "stdout",
     "output_type": "stream",
     "text": [
      "Generator\n",
      "OCGT DK       5383.879060\n",
      "solar DK      1817.474339\n",
      "offwind DK    4673.395990\n",
      "Name: p_nom_opt, dtype: float64\n"
     ]
    }
   ],
   "source": [
    "#tmp.network.loads_t.p_set\n",
    "#tmp.network.generators_t.p_max_pu\n",
    "print(tmp.network.generators.p_nom_opt)"
   ]
  },
  {
   "cell_type": "markdown",
   "metadata": {},
   "source": [
    "# Task A"
   ]
  },
  {
   "cell_type": "code",
   "execution_count": null,
   "metadata": {},
   "outputs": [],
   "source": [
    "setup = {'DK_1': \n",
    "                            {'OCGT': True,\n",
    "                            'CCGT': True,\n",
    "                            'battery storage': True,\n",
    "                            'onshore wind': True,\n",
    "                            'solar': True},\n",
    "        'DE':  {'OCGT': True,\n",
    "                'CCGT': True,\n",
    "                'battery storage': True,\n",
    "                'onshore wind': True,\n",
    "                'solar': True} }"
   ]
  },
  {
   "cell_type": "code",
   "execution_count": null,
   "metadata": {},
   "outputs": [],
   "source": [
    "import numpy as np\n",
    "tmp.data_dict['DK']['Demand'].values.flatten()"
   ]
  },
  {
   "cell_type": "code",
   "execution_count": null,
   "metadata": {},
   "outputs": [],
   "source": [
    "technology_data['onshorewind']['Capital_cost']\n",
    "\n"
   ]
  },
  {
   "cell_type": "markdown",
   "metadata": {},
   "source": [
    "Det er noteret at:"
   ]
  },
  {
   "cell_type": "code",
   "execution_count": null,
   "metadata": {},
   "outputs": [],
   "source": [
    "plt.plot(DataGeneration(year = 2019, region = 'DK_1').data['wind_offshore_generation_actual'].values)\n",
    "plt.show()\n"
   ]
  },
  {
   "cell_type": "code",
   "execution_count": null,
   "metadata": {},
   "outputs": [],
   "source": [
    "from DurationCurve import DurationCurve\n",
    "\n",
    "# region = 'DK_1'\n",
    "# region = 'DK_2'\n",
    "# region = 'NO'\n",
    "region = 'DE'\n",
    "\n",
    "years = [2017, 2018, 2019, 2020]\n",
    "\n",
    "DurationCurve(years = years, region = region)\n",
    "plt.show()"
   ]
  }
 ],
 "metadata": {
  "kernelspec": {
   "display_name": "Python 3",
   "language": "python",
   "name": "python3"
  },
  "language_info": {
   "codemirror_mode": {
    "name": "ipython",
    "version": 3
   },
   "file_extension": ".py",
   "mimetype": "text/x-python",
   "name": "python",
   "nbconvert_exporter": "python",
   "pygments_lexer": "ipython3",
   "version": "3.12.6"
  }
 },
 "nbformat": 4,
 "nbformat_minor": 2
}
