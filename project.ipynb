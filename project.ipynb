{
 "cells": [
  {
   "cell_type": "code",
   "execution_count": 1,
   "metadata": {},
   "outputs": [],
   "source": [
    "import pandas as pd\n",
    "import matplotlib.pyplot as plt"
   ]
  },
  {
   "cell_type": "markdown",
   "metadata": {},
   "source": [
    "DataGeneration loads the data from:\n",
    "\n",
    "https://data.open-power-system-data.org/time_series/ \n",
    "\n",
    "From this website the years 2015-2020 (2020 only includes data points from 1st of January - 30th of September) are downloaded.\n",
    "For each hour in a given year the load demand, solar profile, wind profile on and offshore are downloaded for Denmark (DK1 and DK2), Germany and Norway\n",
    "\n",
    "# Der er ikke noget data for wind_profile og solar_profile for DK og NO, så jeg har taget det fra capacity, og divideret med maks kapaciteten"
   ]
  },
  {
   "cell_type": "code",
   "execution_count": 2,
   "metadata": {},
   "outputs": [],
   "source": [
    "from CostGeneration import CostGeneration\n",
    "from DataGeneration import DataGeneration\n"
   ]
  },
  {
   "cell_type": "code",
   "execution_count": 117,
   "metadata": {},
   "outputs": [
    {
     "data": {
      "text/plain": [
       "0.0212"
      ]
     },
     "execution_count": 117,
     "metadata": {},
     "output_type": "execute_result"
    }
   ],
   "source": [
    "tmp_1 = CostGeneration()\n",
    "\n",
    "tmp_1.costs.at['offwind', \"marginal_cost\"] \n",
    "\n",
    "\n"
   ]
  },
  {
   "cell_type": "code",
   "execution_count": 5,
   "metadata": {},
   "outputs": [],
   "source": [
    "import pypsa\n",
    "import pandas as pd\n",
    "from CostGeneration import CostGeneration\n",
    "from DataGeneration import DataGeneration\n",
    "\n",
    "\n",
    "technology_data = {'gas': {'Marginal_cost': 21.6, 'Efficiency': 0.39, 'Capital_cost': 560000, 'Lifetime': 25, 'CO2_emissions': 0.19},\n",
    "                   'onshorewind': {'Marginal_cost': 21.6, 'Efficiency': 0.39, 'Capital_cost': 560000, 'Lifetime': 25, 'CO2_emissions': 0.19},\n",
    "                   'Solar': {'Marginal_cost': 21.6, 'Efficiency': 0.39, 'Capital_cost': 560000, 'Lifetime': 25, 'CO2_emissions': 0.19},\n",
    "             }\n",
    "\n",
    "class BuildBaseNetwork:\n",
    "    def __init__(self, year: int = 2019, cost_year: int = 2020,\n",
    "                 technology_data = dict, interest_rate = 0.07, \n",
    "                #  carriers: list[str] = [\"onwind\", \"solar\", \"OCGT\", \"CCGT\", \"battery storage\"], \n",
    "                #  multiple_regions = False,\n",
    "                 setup: dict = {'DK': \n",
    "                            {'OCGT': True,\n",
    "                            'CCGT': True,\n",
    "                            'battery storage': True,\n",
    "                            'onshore wind': True,\n",
    "                            'solar': True}}):\n",
    "        \n",
    "        self.year = year\n",
    "        self.cost_year = cost_year \n",
    "\n",
    "        self.costs = CostGeneration(year = self.cost_year).costs\n",
    "\n",
    "        self.interest_rate = interest_rate\n",
    "\n",
    "        self.setup = setup\n",
    "        self.regions = setup.keys()\n",
    "        \n",
    "        self.network = pypsa.Network()\n",
    "        self.hours_in_year = pd.date_range(f'{year}-01-01 00:00', f'{year}-12-31 23:00', freq='h')\n",
    "        self.network.set_snapshots(self.hours_in_year.values)\n",
    "\n",
    "        self.data_dict = {region : {} for region in self.regions}\n",
    "\n",
    "        self.carriers = ['gas', 'onwind', 'offwind', 'solar']\n",
    "\n",
    "        self.network.add(\"Carrier\", self.carriers, color=[\"dodgerblue\", \"gold\", \"indianred\", \"yellow-green\"], co2_emissions=[self.costs.at[c, \"CO2 intensity\"] for c in self.carriers])\n",
    "\n",
    "        for region in self.regions:\n",
    "            data = DataGeneration(year = self.year, region = region)\n",
    "            self.data_dict[region]['Demand'] = data.demand\n",
    "            self.data_dict[region]['solar'] = data.solar\n",
    "            self.data_dict[region]['onwind'] = data.onshore_wind\n",
    "            self.data_dict[region]['offwind'] = data.offshore_wind\n",
    "        \n",
    "            self.add_busses(region)\n",
    "            technologies = self.setup[region].keys()\n",
    "            for tech in technologies:\n",
    "                if tech in ['OCGT', 'CCGT']:\n",
    "                    self.network.add(\"Generator\", f'{tech} {region}', \n",
    "                                     bus = f'electricity bus {region}', \n",
    "                                     p_nom_extendable=True, \n",
    "                                     carrier='gas', \n",
    "                                     capital_cost = self.costs.at[tech, \"capital_cost\"], \n",
    "                                     marginal_cost = self.costs.at[tech, \"marginal_cost\"])\n",
    "                elif tech == 'solar':\n",
    "                    self.network.add(\"Generator\", f'{tech} {region}', \n",
    "                                     bus = f'electricity bus {region}', \n",
    "                                     p_nom_extendable=True, \n",
    "                                     carrier='solar', \n",
    "                                     capital_cost = self.costs.at[tech, \"capital_cost\"], \n",
    "                                     marginal_cost = self.costs.at[tech, \"marginal_cost\"],\n",
    "                                     p_max_pu = self.data_dict[region]['solar'].values.flatten())     \n",
    "                elif tech == 'onwind':\n",
    "                    self.network.add(\"Generator\", f'{tech} {region}', \n",
    "                                     bus = f'electricity bus {region}', \n",
    "                                     p_nom_extendable=True, \n",
    "                                     carrier='onwind', \n",
    "                                     capital_cost = self.costs.at[tech, \"capital_cost\"], \n",
    "                                     marginal_cost = self.costs.at[tech, \"marginal_cost\"],\n",
    "                                     p_max_pu = self.data_dict[region]['onwind'].values.flatten())  \n",
    "                elif tech == 'offwind':\n",
    "                    self.network.add(\"Generator\", f'{tech} {region}', \n",
    "                                     bus = f'electricity bus {region}', \n",
    "                                     p_nom_extendable=True, \n",
    "                                     carrier='offwind', \n",
    "                                     capital_cost = self.costs.at[tech, \"capital_cost\"], \n",
    "                                     marginal_cost = self.costs.at[tech, \"marginal_cost\"],\n",
    "                                     p_max_pu = self.data_dict[region]['offwind'].values.flatten())\n",
    "\n",
    "        self.network.optimize(solver_name='gurobi')\n",
    "\n",
    "    def add_busses(self, region):\n",
    "        self.network.add(\"Bus\", f'electricity bus {region}')\n",
    "        self.network.add(\"Load\", f'load {region}', bus = f'electricity bus {region}', p_set = self.data_dict[region]['Demand'].values.flatten())\n",
    "\n",
    "\n",
    "    #     # add the different carriers, only gas emits CO2\n",
    "\n",
    "    #     self.network.add(\"Carrier\", self.carriers, color=[\"dodgerblue\", \"gold\", \"indianred\",\"yellow-green\", \"brown\"], co2_emissions=[self.costs.at[c, \"CO2 intensity\"] for c in self.carriers])\n",
    "\n",
    "    #     # self.network.add(\"Carrier\", \"gas\", co2_emissions=0.19) # in t_CO2/MWh_th\n",
    "    #     self.network.add(\"Carrier\", \"gas\", co2_emissions = self.technology_data['gas']['CO2_emissions'])\n",
    "    #     # add OCGT (Open Cycle Gas Turbine) generator\n",
    "    #     capital_cost_OCGT = self.annuity(25, self.interest_rate)*560000*(1+0.033) # in €/MW\n",
    "    #     fuel_cost = 21.6 # in €/MWh_th\n",
    "    #     efficiency = 0.39 # MWh_elec/MWh_th\n",
    "    #     marginal_cost_OCGT = fuel_cost/efficiency # in €/MWh_el\n",
    "        \n",
    "    #     self.network.add(\"Generator\",\n",
    "    #                 \"OCGT\",\n",
    "    #                 bus=\"electricity bus\",\n",
    "    #                 p_nom_extendable=True,\n",
    "    #                 carrier=\"gas\",\n",
    "    #                 #p_nom_max=1000,\n",
    "    #                 capital_cost = capital_cost_OCGT,\n",
    "    #                 marginal_cost = marginal_cost_OCGT)\n",
    "\n",
    "    #     self.network.add(\"Carrier\", \"onshorewind\")\n",
    "    #     # add onshore wind generator\n",
    "    #     CF_wind = self.profile_data['DK_wind_onshore_generation_actual'].values\n",
    "    #     capital_cost_onshorewind = self.annuity(30, self.interest_rate) * self.technology_data['onshorewind']['Capital_cost'] * (1+0.033) # in €/MW\n",
    "    #     self.network.add(\"Generator\",\n",
    "    #                 \"onshorewind\",\n",
    "    #                 bus=\"electricity bus\",\n",
    "    #                 p_nom_extendable=True,\n",
    "    #                 carrier=\"onshorewind\",\n",
    "    #                 #p_nom_max=1000, # maximum capacity can be limited due to environmental constraints\n",
    "    #                 capital_cost = capital_cost_onshorewind,\n",
    "    #                 marginal_cost = 0,\n",
    "    #                 p_max_pu = CF_wind)\n",
    "\n",
    "    #     self.network.add(\"Carrier\", \"solar\")\n",
    "\n",
    "    #     # add solar PV generator\n",
    "    #     CF_solar = self.profile_data['DK_solar_generation_actual'].values\n",
    "    #     capital_cost_solar = self.annuity(25,0.07)*425000*(1+0.03) # in €/MW\n",
    "    #     self.network.add(\"Generator\",\n",
    "    #                 \"solar\",\n",
    "    #                 bus=\"electricity bus\",\n",
    "    #                 p_nom_extendable=True,\n",
    "    #                 carrier=\"solar\",\n",
    "    #                 #p_nom_max=1000, # maximum capacity can be limited due to environmental constraints\n",
    "    #                 capital_cost = capital_cost_solar,\n",
    "    #                 marginal_cost = 0,\n",
    "    #                 p_max_pu = CF_solar)\n",
    "\n",
    "    # def add_line(self, name, bus0, bus1, length, s_nom):\n",
    "    #     self.network.add(\"Line\", name, bus0, bus1, length=length, s_nom=s_nom)\n",
    "\n",
    "    @staticmethod\n",
    "    def annuity(n, r):\n",
    "        \"\"\" Calculate the annuity factor for an asset with lifetime n years and\n",
    "        discount rate  r \"\"\"\n",
    "\n",
    "        if r > 0:\n",
    "            return r/(1. - 1./(1.+r)**n)\n",
    "        else:\n",
    "            return 1/n\n"
   ]
  },
  {
   "cell_type": "code",
   "execution_count": 106,
   "metadata": {},
   "outputs": [
    {
     "name": "stdout",
     "output_type": "stream",
     "text": [
      "75323.80208848667\n",
      "0.0106\n",
      "49760.036522390714\n",
      "66.182\n"
     ]
    }
   ],
   "source": [
    "print(tmp.costs.at['solar', \"capital_cost\"])\n",
    "print(tmp.costs.at['solar', \"marginal_cost\"])\n",
    "\n",
    "print(tmp.costs.at['OCGT', \"capital_cost\"])\n",
    "print(tmp.costs.at['OCGT', \"marginal_cost\"])\n"
   ]
  },
  {
   "cell_type": "code",
   "execution_count": 9,
   "metadata": {},
   "outputs": [
    {
     "name": "stdout",
     "output_type": "stream",
     "text": [
      "Year 2019 is greater than 2017, using data from last available year.\n"
     ]
    },
    {
     "name": "stderr",
     "output_type": "stream",
     "text": [
      "WARNING:pypsa.consistency:The following buses have carriers which are not defined:\n",
      "Index(['electricity bus DK'], dtype='object', name='Bus')\n",
      "WARNING:pypsa.consistency:The following buses have carriers which are not defined:\n",
      "Index(['electricity bus DK'], dtype='object', name='Bus')\n",
      "INFO:linopy.model: Solve problem using Gurobi solver\n",
      "INFO:linopy.io:Writing objective.\n",
      "Writing constraints.: 100%|\u001b[38;2;128;191;255m██████████\u001b[0m| 5/5 [00:00<00:00, 18.46it/s]\n",
      "Writing continuous variables.: 100%|\u001b[38;2;128;191;255m██████████\u001b[0m| 2/2 [00:00<00:00, 37.05it/s]\n",
      "INFO:linopy.io: Writing time: 0.38s\n"
     ]
    },
    {
     "name": "stdout",
     "output_type": "stream",
     "text": [
      "Set parameter Username\n"
     ]
    },
    {
     "name": "stderr",
     "output_type": "stream",
     "text": [
      "INFO:gurobipy:Set parameter Username\n"
     ]
    },
    {
     "name": "stdout",
     "output_type": "stream",
     "text": [
      "Set parameter LicenseID to value 2617852\n"
     ]
    },
    {
     "name": "stderr",
     "output_type": "stream",
     "text": [
      "INFO:gurobipy:Set parameter LicenseID to value 2617852\n"
     ]
    },
    {
     "name": "stdout",
     "output_type": "stream",
     "text": [
      "Academic license - for non-commercial use only - expires 2026-02-04\n"
     ]
    },
    {
     "name": "stderr",
     "output_type": "stream",
     "text": [
      "INFO:gurobipy:Academic license - for non-commercial use only - expires 2026-02-04\n"
     ]
    },
    {
     "name": "stdout",
     "output_type": "stream",
     "text": [
      "Read LP format model from file C:\\Users\\Jeppe Urup Byberg\\AppData\\Local\\Temp\\linopy-problem-621egg13.lp\n"
     ]
    },
    {
     "name": "stderr",
     "output_type": "stream",
     "text": [
      "INFO:gurobipy:Read LP format model from file C:\\Users\\Jeppe Urup Byberg\\AppData\\Local\\Temp\\linopy-problem-621egg13.lp\n"
     ]
    },
    {
     "name": "stdout",
     "output_type": "stream",
     "text": [
      "Reading time = 0.12 seconds\n"
     ]
    },
    {
     "name": "stderr",
     "output_type": "stream",
     "text": [
      "INFO:gurobipy:Reading time = 0.12 seconds\n"
     ]
    },
    {
     "name": "stdout",
     "output_type": "stream",
     "text": [
      "obj: 61323 rows, 26283 columns, 100760 nonzeros\n"
     ]
    },
    {
     "name": "stderr",
     "output_type": "stream",
     "text": [
      "INFO:gurobipy:obj: 61323 rows, 26283 columns, 100760 nonzeros\n"
     ]
    },
    {
     "name": "stdout",
     "output_type": "stream",
     "text": [
      "Gurobi Optimizer version 12.0.1 build v12.0.1rc0 (win64 - Windows 11.0 (26100.2))\n"
     ]
    },
    {
     "name": "stderr",
     "output_type": "stream",
     "text": [
      "INFO:gurobipy:Gurobi Optimizer version 12.0.1 build v12.0.1rc0 (win64 - Windows 11.0 (26100.2))\n"
     ]
    },
    {
     "name": "stdout",
     "output_type": "stream",
     "text": [
      "\n"
     ]
    },
    {
     "name": "stderr",
     "output_type": "stream",
     "text": [
      "INFO:gurobipy:\n"
     ]
    },
    {
     "name": "stdout",
     "output_type": "stream",
     "text": [
      "CPU model: Intel(R) Core(TM) i7-10510U CPU @ 1.80GHz, instruction set [SSE2|AVX|AVX2]\n"
     ]
    },
    {
     "name": "stderr",
     "output_type": "stream",
     "text": [
      "INFO:gurobipy:CPU model: Intel(R) Core(TM) i7-10510U CPU @ 1.80GHz, instruction set [SSE2|AVX|AVX2]\n"
     ]
    },
    {
     "name": "stdout",
     "output_type": "stream",
     "text": [
      "Thread count: 4 physical cores, 8 logical processors, using up to 8 threads\n"
     ]
    },
    {
     "name": "stderr",
     "output_type": "stream",
     "text": [
      "INFO:gurobipy:Thread count: 4 physical cores, 8 logical processors, using up to 8 threads\n"
     ]
    },
    {
     "name": "stdout",
     "output_type": "stream",
     "text": [
      "\n"
     ]
    },
    {
     "name": "stderr",
     "output_type": "stream",
     "text": [
      "INFO:gurobipy:\n"
     ]
    },
    {
     "name": "stdout",
     "output_type": "stream",
     "text": [
      "Optimize a model with 61323 rows, 26283 columns and 100760 nonzeros\n"
     ]
    },
    {
     "name": "stderr",
     "output_type": "stream",
     "text": [
      "INFO:gurobipy:Optimize a model with 61323 rows, 26283 columns and 100760 nonzeros\n"
     ]
    },
    {
     "name": "stdout",
     "output_type": "stream",
     "text": [
      "Model fingerprint: 0xc51209fa\n"
     ]
    },
    {
     "name": "stderr",
     "output_type": "stream",
     "text": [
      "INFO:gurobipy:Model fingerprint: 0xc51209fa\n"
     ]
    },
    {
     "name": "stdout",
     "output_type": "stream",
     "text": [
      "Coefficient statistics:\n"
     ]
    },
    {
     "name": "stderr",
     "output_type": "stream",
     "text": [
      "INFO:gurobipy:Coefficient statistics:\n"
     ]
    },
    {
     "name": "stdout",
     "output_type": "stream",
     "text": [
      "  Matrix range     [1e-03, 1e+00]\n"
     ]
    },
    {
     "name": "stderr",
     "output_type": "stream",
     "text": [
      "INFO:gurobipy:  Matrix range     [1e-03, 1e+00]\n"
     ]
    },
    {
     "name": "stdout",
     "output_type": "stream",
     "text": [
      "  Objective range  [1e-02, 1e+05]\n"
     ]
    },
    {
     "name": "stderr",
     "output_type": "stream",
     "text": [
      "INFO:gurobipy:  Objective range  [1e-02, 1e+05]\n"
     ]
    },
    {
     "name": "stdout",
     "output_type": "stream",
     "text": [
      "  Bounds range     [0e+00, 0e+00]\n"
     ]
    },
    {
     "name": "stderr",
     "output_type": "stream",
     "text": [
      "INFO:gurobipy:  Bounds range     [0e+00, 0e+00]\n"
     ]
    },
    {
     "name": "stdout",
     "output_type": "stream",
     "text": [
      "  RHS range        [2e+03, 7e+03]\n"
     ]
    },
    {
     "name": "stderr",
     "output_type": "stream",
     "text": [
      "INFO:gurobipy:  RHS range        [2e+03, 7e+03]\n"
     ]
    },
    {
     "name": "stdout",
     "output_type": "stream",
     "text": [
      "Presolve removed 35009 rows and 8726 columns\n"
     ]
    },
    {
     "name": "stderr",
     "output_type": "stream",
     "text": [
      "INFO:gurobipy:Presolve removed 35009 rows and 8726 columns\n"
     ]
    },
    {
     "name": "stdout",
     "output_type": "stream",
     "text": [
      "Presolve time: 0.10s\n"
     ]
    },
    {
     "name": "stderr",
     "output_type": "stream",
     "text": [
      "INFO:gurobipy:Presolve time: 0.10s\n"
     ]
    },
    {
     "name": "stdout",
     "output_type": "stream",
     "text": [
      "Presolved: 26314 rows, 17557 columns, 57025 nonzeros\n"
     ]
    },
    {
     "name": "stderr",
     "output_type": "stream",
     "text": [
      "INFO:gurobipy:Presolved: 26314 rows, 17557 columns, 57025 nonzeros\n"
     ]
    },
    {
     "name": "stdout",
     "output_type": "stream",
     "text": [
      "\n"
     ]
    },
    {
     "name": "stderr",
     "output_type": "stream",
     "text": [
      "INFO:gurobipy:\n"
     ]
    },
    {
     "name": "stdout",
     "output_type": "stream",
     "text": [
      "Concurrent LP optimizer: dual simplex and barrier\n"
     ]
    },
    {
     "name": "stderr",
     "output_type": "stream",
     "text": [
      "INFO:gurobipy:Concurrent LP optimizer: dual simplex and barrier\n"
     ]
    },
    {
     "name": "stdout",
     "output_type": "stream",
     "text": [
      "Showing barrier log only...\n"
     ]
    },
    {
     "name": "stderr",
     "output_type": "stream",
     "text": [
      "INFO:gurobipy:Showing barrier log only...\n"
     ]
    },
    {
     "name": "stdout",
     "output_type": "stream",
     "text": [
      "\n"
     ]
    },
    {
     "name": "stderr",
     "output_type": "stream",
     "text": [
      "INFO:gurobipy:\n"
     ]
    },
    {
     "name": "stdout",
     "output_type": "stream",
     "text": [
      "Ordering time: 0.01s\n"
     ]
    },
    {
     "name": "stderr",
     "output_type": "stream",
     "text": [
      "INFO:gurobipy:Ordering time: 0.01s\n"
     ]
    },
    {
     "name": "stdout",
     "output_type": "stream",
     "text": [
      "\n"
     ]
    },
    {
     "name": "stderr",
     "output_type": "stream",
     "text": [
      "INFO:gurobipy:\n"
     ]
    },
    {
     "name": "stdout",
     "output_type": "stream",
     "text": [
      "Barrier statistics:\n"
     ]
    },
    {
     "name": "stderr",
     "output_type": "stream",
     "text": [
      "INFO:gurobipy:Barrier statistics:\n"
     ]
    },
    {
     "name": "stdout",
     "output_type": "stream",
     "text": [
      " Dense cols : 3\n"
     ]
    },
    {
     "name": "stderr",
     "output_type": "stream",
     "text": [
      "INFO:gurobipy: Dense cols : 3\n"
     ]
    },
    {
     "name": "stdout",
     "output_type": "stream",
     "text": [
      " AA' NZ     : 3.947e+04\n"
     ]
    },
    {
     "name": "stderr",
     "output_type": "stream",
     "text": [
      "INFO:gurobipy: AA' NZ     : 3.947e+04\n"
     ]
    },
    {
     "name": "stdout",
     "output_type": "stream",
     "text": [
      " Factor NZ  : 1.273e+05 (roughly 20 MB of memory)\n"
     ]
    },
    {
     "name": "stderr",
     "output_type": "stream",
     "text": [
      "INFO:gurobipy: Factor NZ  : 1.273e+05 (roughly 20 MB of memory)\n"
     ]
    },
    {
     "name": "stdout",
     "output_type": "stream",
     "text": [
      " Factor Ops : 6.631e+05 (less than 1 second per iteration)\n"
     ]
    },
    {
     "name": "stderr",
     "output_type": "stream",
     "text": [
      "INFO:gurobipy: Factor Ops : 6.631e+05 (less than 1 second per iteration)\n"
     ]
    },
    {
     "name": "stdout",
     "output_type": "stream",
     "text": [
      " Threads    : 1\n"
     ]
    },
    {
     "name": "stderr",
     "output_type": "stream",
     "text": [
      "INFO:gurobipy: Threads    : 1\n"
     ]
    },
    {
     "name": "stdout",
     "output_type": "stream",
     "text": [
      "\n"
     ]
    },
    {
     "name": "stderr",
     "output_type": "stream",
     "text": [
      "INFO:gurobipy:\n"
     ]
    },
    {
     "name": "stdout",
     "output_type": "stream",
     "text": [
      "                  Objective                Residual\n"
     ]
    },
    {
     "name": "stderr",
     "output_type": "stream",
     "text": [
      "INFO:gurobipy:                  Objective                Residual\n"
     ]
    },
    {
     "name": "stdout",
     "output_type": "stream",
     "text": [
      "Iter       Primal          Dual         Primal    Dual     Compl     Time\n"
     ]
    },
    {
     "name": "stderr",
     "output_type": "stream",
     "text": [
      "INFO:gurobipy:Iter       Primal          Dual         Primal    Dual     Compl     Time\n"
     ]
    },
    {
     "name": "stdout",
     "output_type": "stream",
     "text": [
      "   0   2.83705704e+10 -1.62283882e+11  7.03e+04 0.00e+00  1.14e+08     0s\n"
     ]
    },
    {
     "name": "stderr",
     "output_type": "stream",
     "text": [
      "INFO:gurobipy:   0   2.83705704e+10 -1.62283882e+11  7.03e+04 0.00e+00  1.14e+08     0s\n"
     ]
    },
    {
     "name": "stdout",
     "output_type": "stream",
     "text": [
      "   1   4.93370527e+10 -1.98216909e+11  7.85e+03 5.51e+02  1.95e+07     0s\n"
     ]
    },
    {
     "name": "stderr",
     "output_type": "stream",
     "text": [
      "INFO:gurobipy:   1   4.93370527e+10 -1.98216909e+11  7.85e+03 5.51e+02  1.95e+07     0s\n"
     ]
    },
    {
     "name": "stdout",
     "output_type": "stream",
     "text": [
      "   2   4.00748604e+10 -6.61390025e+10  1.09e-11 1.19e+00  1.90e+06     0s\n"
     ]
    },
    {
     "name": "stderr",
     "output_type": "stream",
     "text": [
      "INFO:gurobipy:   2   4.00748604e+10 -6.61390025e+10  1.09e-11 1.19e+00  1.90e+06     0s\n"
     ]
    },
    {
     "name": "stdout",
     "output_type": "stream",
     "text": [
      "   3   7.98940414e+09 -5.87415799e+09  7.28e-12 8.24e-10  2.44e+05     0s\n"
     ]
    },
    {
     "name": "stderr",
     "output_type": "stream",
     "text": [
      "INFO:gurobipy:   3   7.98940414e+09 -5.87415799e+09  7.28e-12 8.24e-10  2.44e+05     0s\n"
     ]
    },
    {
     "name": "stdout",
     "output_type": "stream",
     "text": [
      "   4   4.46566673e+09 -4.25049575e+08  5.46e-12 6.44e-10  8.59e+04     0s\n"
     ]
    },
    {
     "name": "stderr",
     "output_type": "stream",
     "text": [
      "INFO:gurobipy:   4   4.46566673e+09 -4.25049575e+08  5.46e-12 6.44e-10  8.59e+04     0s\n"
     ]
    },
    {
     "name": "stdout",
     "output_type": "stream",
     "text": [
      "   5   3.58098216e+09  4.34966134e+08  1.09e-11 3.42e-10  5.52e+04     1s\n"
     ]
    },
    {
     "name": "stderr",
     "output_type": "stream",
     "text": [
      "INFO:gurobipy:   5   3.58098216e+09  4.34966134e+08  1.09e-11 3.42e-10  5.52e+04     1s\n"
     ]
    },
    {
     "name": "stdout",
     "output_type": "stream",
     "text": [
      "   6   3.48628470e+09  8.17068015e+08  3.27e-11 1.26e-09  4.69e+04     1s\n"
     ]
    },
    {
     "name": "stderr",
     "output_type": "stream",
     "text": [
      "INFO:gurobipy:   6   3.48628470e+09  8.17068015e+08  3.27e-11 1.26e-09  4.69e+04     1s\n"
     ]
    },
    {
     "name": "stdout",
     "output_type": "stream",
     "text": [
      "   7   2.97768323e+09  1.44513510e+09  3.60e-10 1.88e-10  2.69e+04     1s\n"
     ]
    },
    {
     "name": "stderr",
     "output_type": "stream",
     "text": [
      "INFO:gurobipy:   7   2.97768323e+09  1.44513510e+09  3.60e-10 1.88e-10  2.69e+04     1s\n"
     ]
    },
    {
     "name": "stdout",
     "output_type": "stream",
     "text": [
      "   8   2.64313314e+09  1.73354379e+09  1.13e-10 3.55e-10  1.60e+04     1s\n"
     ]
    },
    {
     "name": "stderr",
     "output_type": "stream",
     "text": [
      "INFO:gurobipy:   8   2.64313314e+09  1.73354379e+09  1.13e-10 3.55e-10  1.60e+04     1s\n"
     ]
    },
    {
     "name": "stdout",
     "output_type": "stream",
     "text": [
      "   9   2.48859309e+09  2.04762218e+09  2.84e-10 2.69e-10  7.74e+03     1s\n"
     ]
    },
    {
     "name": "stderr",
     "output_type": "stream",
     "text": [
      "INFO:gurobipy:   9   2.48859309e+09  2.04762218e+09  2.84e-10 2.69e-10  7.74e+03     1s\n"
     ]
    },
    {
     "name": "stdout",
     "output_type": "stream",
     "text": [
      "  10   2.38366330e+09  2.20595357e+09  7.28e-11 2.08e-10  3.12e+03     1s\n"
     ]
    },
    {
     "name": "stderr",
     "output_type": "stream",
     "text": [
      "INFO:gurobipy:  10   2.38366330e+09  2.20595357e+09  7.28e-11 2.08e-10  3.12e+03     1s\n"
     ]
    },
    {
     "name": "stdout",
     "output_type": "stream",
     "text": [
      "  11   2.34147123e+09  2.25528477e+09  1.90e-09 6.08e-10  1.51e+03     1s\n"
     ]
    },
    {
     "name": "stderr",
     "output_type": "stream",
     "text": [
      "INFO:gurobipy:  11   2.34147123e+09  2.25528477e+09  1.90e-09 6.08e-10  1.51e+03     1s\n"
     ]
    },
    {
     "name": "stdout",
     "output_type": "stream",
     "text": [
      "  12   2.31778945e+09  2.26093820e+09  1.83e-09 1.37e-09  9.97e+02     1s\n"
     ]
    },
    {
     "name": "stderr",
     "output_type": "stream",
     "text": [
      "INFO:gurobipy:  12   2.31778945e+09  2.26093820e+09  1.83e-09 1.37e-09  9.97e+02     1s\n"
     ]
    },
    {
     "name": "stdout",
     "output_type": "stream",
     "text": [
      "  13   2.30352698e+09  2.26703454e+09  5.62e-10 2.20e-12  6.40e+02     1s\n"
     ]
    },
    {
     "name": "stderr",
     "output_type": "stream",
     "text": [
      "INFO:gurobipy:  13   2.30352698e+09  2.26703454e+09  5.62e-10 2.20e-12  6.40e+02     1s\n"
     ]
    },
    {
     "name": "stdout",
     "output_type": "stream",
     "text": [
      "  14   2.29398002e+09  2.27226445e+09  1.29e-09 5.27e-10  3.81e+02     1s\n"
     ]
    },
    {
     "name": "stderr",
     "output_type": "stream",
     "text": [
      "INFO:gurobipy:  14   2.29398002e+09  2.27226445e+09  1.29e-09 5.27e-10  3.81e+02     1s\n"
     ]
    },
    {
     "name": "stdout",
     "output_type": "stream",
     "text": [
      "  15   2.28842210e+09  2.27763102e+09  2.20e-09 9.93e-10  1.89e+02     1s\n"
     ]
    },
    {
     "name": "stderr",
     "output_type": "stream",
     "text": [
      "INFO:gurobipy:  15   2.28842210e+09  2.27763102e+09  2.20e-09 9.93e-10  1.89e+02     1s\n"
     ]
    },
    {
     "name": "stdout",
     "output_type": "stream",
     "text": [
      "  16   2.28520273e+09  2.27884165e+09  5.12e-09 1.02e-09  1.12e+02     1s\n"
     ]
    },
    {
     "name": "stderr",
     "output_type": "stream",
     "text": [
      "INFO:gurobipy:  16   2.28520273e+09  2.27884165e+09  5.12e-09 1.02e-09  1.12e+02     1s\n"
     ]
    },
    {
     "name": "stdout",
     "output_type": "stream",
     "text": [
      "  17   2.28326770e+09  2.27982729e+09  2.73e-09 9.92e-10  6.04e+01     1s\n"
     ]
    },
    {
     "name": "stderr",
     "output_type": "stream",
     "text": [
      "INFO:gurobipy:  17   2.28326770e+09  2.27982729e+09  2.73e-09 9.92e-10  6.04e+01     1s\n"
     ]
    },
    {
     "name": "stdout",
     "output_type": "stream",
     "text": [
      "  18   2.28283679e+09  2.28013996e+09  2.10e-09 8.42e-10  4.73e+01     1s\n"
     ]
    },
    {
     "name": "stderr",
     "output_type": "stream",
     "text": [
      "INFO:gurobipy:  18   2.28283679e+09  2.28013996e+09  2.10e-09 8.42e-10  4.73e+01     1s\n"
     ]
    },
    {
     "name": "stdout",
     "output_type": "stream",
     "text": [
      "  19   2.28172264e+09  2.28082964e+09  3.10e-09 1.60e-10  1.57e+01     1s\n"
     ]
    },
    {
     "name": "stderr",
     "output_type": "stream",
     "text": [
      "INFO:gurobipy:  19   2.28172264e+09  2.28082964e+09  3.10e-09 1.60e-10  1.57e+01     1s\n"
     ]
    },
    {
     "name": "stdout",
     "output_type": "stream",
     "text": [
      "  20   2.28134394e+09  2.28111884e+09  2.67e-09 6.53e-10  3.95e+00     1s\n"
     ]
    },
    {
     "name": "stderr",
     "output_type": "stream",
     "text": [
      "INFO:gurobipy:  20   2.28134394e+09  2.28111884e+09  2.67e-09 6.53e-10  3.95e+00     1s\n"
     ]
    },
    {
     "name": "stdout",
     "output_type": "stream",
     "text": [
      "  21   2.28128232e+09  2.28125676e+09  2.01e-09 7.56e-10  4.48e-01     1s\n"
     ]
    },
    {
     "name": "stderr",
     "output_type": "stream",
     "text": [
      "INFO:gurobipy:  21   2.28128232e+09  2.28125676e+09  2.01e-09 7.56e-10  4.48e-01     1s\n"
     ]
    },
    {
     "name": "stdout",
     "output_type": "stream",
     "text": [
      "  22   2.28126644e+09  2.28126636e+09  1.56e-08 1.42e-10  1.39e-03     1s\n"
     ]
    },
    {
     "name": "stderr",
     "output_type": "stream",
     "text": [
      "INFO:gurobipy:  22   2.28126644e+09  2.28126636e+09  1.56e-08 1.42e-10  1.39e-03     1s\n"
     ]
    },
    {
     "name": "stdout",
     "output_type": "stream",
     "text": [
      "  23   2.28126640e+09  2.28126640e+09  6.85e-09 1.38e-10  1.39e-06     1s\n"
     ]
    },
    {
     "name": "stderr",
     "output_type": "stream",
     "text": [
      "INFO:gurobipy:  23   2.28126640e+09  2.28126640e+09  6.85e-09 1.38e-10  1.39e-06     1s\n"
     ]
    },
    {
     "name": "stdout",
     "output_type": "stream",
     "text": [
      "  24   2.28126640e+09  2.28126640e+09  1.36e-10 1.31e-09  1.39e-12     1s\n"
     ]
    },
    {
     "name": "stderr",
     "output_type": "stream",
     "text": [
      "INFO:gurobipy:  24   2.28126640e+09  2.28126640e+09  1.36e-10 1.31e-09  1.39e-12     1s\n"
     ]
    },
    {
     "name": "stdout",
     "output_type": "stream",
     "text": [
      "\n"
     ]
    },
    {
     "name": "stderr",
     "output_type": "stream",
     "text": [
      "INFO:gurobipy:\n"
     ]
    },
    {
     "name": "stdout",
     "output_type": "stream",
     "text": [
      "Barrier solved model in 24 iterations and 1.30 seconds (0.25 work units)\n"
     ]
    },
    {
     "name": "stderr",
     "output_type": "stream",
     "text": [
      "INFO:gurobipy:Barrier solved model in 24 iterations and 1.30 seconds (0.25 work units)\n"
     ]
    },
    {
     "name": "stdout",
     "output_type": "stream",
     "text": [
      "Optimal objective 2.28126640e+09\n"
     ]
    },
    {
     "name": "stderr",
     "output_type": "stream",
     "text": [
      "INFO:gurobipy:Optimal objective 2.28126640e+09\n"
     ]
    },
    {
     "name": "stdout",
     "output_type": "stream",
     "text": [
      "\n"
     ]
    },
    {
     "name": "stderr",
     "output_type": "stream",
     "text": [
      "INFO:gurobipy:\n"
     ]
    },
    {
     "name": "stdout",
     "output_type": "stream",
     "text": [
      "Crossover log...\n"
     ]
    },
    {
     "name": "stderr",
     "output_type": "stream",
     "text": [
      "INFO:gurobipy:Crossover log...\n"
     ]
    },
    {
     "name": "stdout",
     "output_type": "stream",
     "text": [
      "\n"
     ]
    },
    {
     "name": "stderr",
     "output_type": "stream",
     "text": [
      "INFO:gurobipy:\n"
     ]
    },
    {
     "name": "stdout",
     "output_type": "stream",
     "text": [
      "    4402 DPushes remaining with DInf 0.0000000e+00                 1s\n"
     ]
    },
    {
     "name": "stderr",
     "output_type": "stream",
     "text": [
      "INFO:gurobipy:    4402 DPushes remaining with DInf 0.0000000e+00                 1s\n"
     ]
    },
    {
     "name": "stdout",
     "output_type": "stream",
     "text": [
      "       0 DPushes remaining with DInf 0.0000000e+00                 1s\n"
     ]
    },
    {
     "name": "stderr",
     "output_type": "stream",
     "text": [
      "INFO:gurobipy:       0 DPushes remaining with DInf 0.0000000e+00                 1s\n"
     ]
    },
    {
     "name": "stdout",
     "output_type": "stream",
     "text": [
      "\n"
     ]
    },
    {
     "name": "stderr",
     "output_type": "stream",
     "text": [
      "INFO:gurobipy:\n"
     ]
    },
    {
     "name": "stdout",
     "output_type": "stream",
     "text": [
      "       1 PPushes remaining with PInf 0.0000000e+00                 1s\n"
     ]
    },
    {
     "name": "stderr",
     "output_type": "stream",
     "text": [
      "INFO:gurobipy:       1 PPushes remaining with PInf 0.0000000e+00                 1s\n"
     ]
    },
    {
     "name": "stdout",
     "output_type": "stream",
     "text": [
      "       0 PPushes remaining with PInf 0.0000000e+00                 1s\n"
     ]
    },
    {
     "name": "stderr",
     "output_type": "stream",
     "text": [
      "INFO:gurobipy:       0 PPushes remaining with PInf 0.0000000e+00                 1s\n"
     ]
    },
    {
     "name": "stdout",
     "output_type": "stream",
     "text": [
      "\n"
     ]
    },
    {
     "name": "stderr",
     "output_type": "stream",
     "text": [
      "INFO:gurobipy:\n"
     ]
    },
    {
     "name": "stdout",
     "output_type": "stream",
     "text": [
      "  Push phase complete: Pinf 0.0000000e+00, Dinf 1.0569039e-09      1s\n"
     ]
    },
    {
     "name": "stderr",
     "output_type": "stream",
     "text": [
      "INFO:gurobipy:  Push phase complete: Pinf 0.0000000e+00, Dinf 1.0569039e-09      1s\n"
     ]
    },
    {
     "name": "stdout",
     "output_type": "stream",
     "text": [
      "\n"
     ]
    },
    {
     "name": "stderr",
     "output_type": "stream",
     "text": [
      "INFO:gurobipy:\n"
     ]
    },
    {
     "name": "stdout",
     "output_type": "stream",
     "text": [
      "\n"
     ]
    },
    {
     "name": "stderr",
     "output_type": "stream",
     "text": [
      "INFO:gurobipy:\n"
     ]
    },
    {
     "name": "stdout",
     "output_type": "stream",
     "text": [
      "Solved with barrier\n"
     ]
    },
    {
     "name": "stderr",
     "output_type": "stream",
     "text": [
      "INFO:gurobipy:Solved with barrier\n"
     ]
    },
    {
     "name": "stdout",
     "output_type": "stream",
     "text": [
      "Iteration    Objective       Primal Inf.    Dual Inf.      Time\n"
     ]
    },
    {
     "name": "stderr",
     "output_type": "stream",
     "text": [
      "INFO:gurobipy:Iteration    Objective       Primal Inf.    Dual Inf.      Time\n"
     ]
    },
    {
     "name": "stdout",
     "output_type": "stream",
     "text": [
      "    4406    2.2812664e+09   0.000000e+00   0.000000e+00      2s\n"
     ]
    },
    {
     "name": "stderr",
     "output_type": "stream",
     "text": [
      "INFO:gurobipy:    4406    2.2812664e+09   0.000000e+00   0.000000e+00      2s\n"
     ]
    },
    {
     "name": "stdout",
     "output_type": "stream",
     "text": [
      "\n"
     ]
    },
    {
     "name": "stderr",
     "output_type": "stream",
     "text": [
      "INFO:gurobipy:\n"
     ]
    },
    {
     "name": "stdout",
     "output_type": "stream",
     "text": [
      "Solved in 4406 iterations and 1.51 seconds (0.28 work units)\n"
     ]
    },
    {
     "name": "stderr",
     "output_type": "stream",
     "text": [
      "INFO:gurobipy:Solved in 4406 iterations and 1.51 seconds (0.28 work units)\n"
     ]
    },
    {
     "name": "stdout",
     "output_type": "stream",
     "text": [
      "Optimal objective  2.281266403e+09\n"
     ]
    },
    {
     "name": "stderr",
     "output_type": "stream",
     "text": [
      "INFO:gurobipy:Optimal objective  2.281266403e+09\n",
      "INFO:linopy.constants: Optimization successful: \n",
      "Status: ok\n",
      "Termination condition: optimal\n",
      "Solution: 26283 primals, 61323 duals\n",
      "Objective: 2.28e+09\n",
      "Solver model: available\n",
      "Solver message: 2\n",
      "\n",
      "INFO:pypsa.optimization.optimize:The shadow-prices of the constraints Generator-ext-p-lower, Generator-ext-p-upper were not assigned to the network.\n"
     ]
    }
   ],
   "source": [
    "setup = {'DK': \n",
    "                            {'OCGT': True,\n",
    "                            'solar': True,\n",
    "                            'onwind': True},\n",
    "        # 'DE':  {'OCGT': True,\n",
    "        #         'solar': True} \n",
    "                }\n",
    "\n",
    "tmp = BuildBaseNetwork(setup = setup)\n"
   ]
  },
  {
   "cell_type": "code",
   "execution_count": 10,
   "metadata": {},
   "outputs": [
    {
     "data": {
      "text/plain": [
       "Generator\n",
       "OCGT DK      5310.884881\n",
       "solar DK        0.000000\n",
       "onwind DK    6504.323570\n",
       "Name: p_nom_opt, dtype: float64"
      ]
     },
     "execution_count": 10,
     "metadata": {},
     "output_type": "execute_result"
    }
   ],
   "source": [
    "# tmp.network.loads_t.p_set\n",
    "# tmp.network.generators_t.p_max_pu\n",
    "tmp.network.generators.p_nom_opt"
   ]
  },
  {
   "cell_type": "code",
   "execution_count": 2,
   "metadata": {},
   "outputs": [
    {
     "name": "stdout",
     "output_type": "stream",
     "text": [
      "Year 2019 is greater than 2017, using data from last available year.\n"
     ]
    },
    {
     "data": {
      "application/vnd.microsoft.datawrangler.viewer.v0+json": {
       "columns": [
        {
         "name": "utc_timestamp",
         "rawType": "datetime64[ns, UTC]",
         "type": "unknown"
        },
        {
         "name": "DK_demand",
         "rawType": "float64",
         "type": "float"
        }
       ],
       "conversionMethod": "pd.DataFrame",
       "ref": "470c3772-3969-4d92-ba81-da9da9bae3d2",
       "rows": [
        [
         "2019-01-01 00:00:00+00:00",
         "3186.04"
        ],
        [
         "2019-01-01 01:00:00+00:00",
         "3070.07"
        ],
        [
         "2019-01-01 02:00:00+00:00",
         "2966.19"
        ],
        [
         "2019-01-01 03:00:00+00:00",
         "2933.48"
        ],
        [
         "2019-01-01 04:00:00+00:00",
         "2940.64"
        ],
        [
         "2019-01-01 05:00:00+00:00",
         "3035.76"
        ],
        [
         "2019-01-01 06:00:00+00:00",
         "3100.51"
        ],
        [
         "2019-01-01 07:00:00+00:00",
         "3208.1"
        ],
        [
         "2019-01-01 08:00:00+00:00",
         "3337.19"
        ],
        [
         "2019-01-01 09:00:00+00:00",
         "3530.81"
        ],
        [
         "2019-01-01 10:00:00+00:00",
         "3679.1"
        ],
        [
         "2019-01-01 11:00:00+00:00",
         "3746.84"
        ],
        [
         "2019-01-01 12:00:00+00:00",
         "3761.13"
        ],
        [
         "2019-01-01 13:00:00+00:00",
         "3800.54"
        ],
        [
         "2019-01-01 14:00:00+00:00",
         "3760.58"
        ],
        [
         "2019-01-01 15:00:00+00:00",
         "4202.2"
        ],
        [
         "2019-01-01 16:00:00+00:00",
         "4384.13"
        ],
        [
         "2019-01-01 17:00:00+00:00",
         "4360.38"
        ],
        [
         "2019-01-01 18:00:00+00:00",
         "4137.21"
        ],
        [
         "2019-01-01 19:00:00+00:00",
         "3944.49"
        ],
        [
         "2019-01-01 20:00:00+00:00",
         "3671.11"
        ],
        [
         "2019-01-01 21:00:00+00:00",
         "3454.36"
        ],
        [
         "2019-01-01 22:00:00+00:00",
         "3208.53"
        ],
        [
         "2019-01-01 23:00:00+00:00",
         "3028.11"
        ],
        [
         "2019-01-02 00:00:00+00:00",
         "2946.07"
        ],
        [
         "2019-01-02 01:00:00+00:00",
         "2889.81"
        ],
        [
         "2019-01-02 02:00:00+00:00",
         "2921.59"
        ],
        [
         "2019-01-02 03:00:00+00:00",
         "3006.97"
        ],
        [
         "2019-01-02 04:00:00+00:00",
         "3209.86"
        ],
        [
         "2019-01-02 05:00:00+00:00",
         "3743.37"
        ],
        [
         "2019-01-02 06:00:00+00:00",
         "4305.69"
        ],
        [
         "2019-01-02 07:00:00+00:00",
         "4626.48"
        ],
        [
         "2019-01-02 08:00:00+00:00",
         "4738.52"
        ],
        [
         "2019-01-02 09:00:00+00:00",
         "4721.57"
        ],
        [
         "2019-01-02 10:00:00+00:00",
         "4722.6"
        ],
        [
         "2019-01-02 11:00:00+00:00",
         "4621.2"
        ],
        [
         "2019-01-02 12:00:00+00:00",
         "4622.98"
        ],
        [
         "2019-01-02 13:00:00+00:00",
         "4555.68"
        ],
        [
         "2019-01-02 14:00:00+00:00",
         "4517.9"
        ],
        [
         "2019-01-02 15:00:00+00:00",
         "4764.5"
        ],
        [
         "2019-01-02 16:00:00+00:00",
         "5226.79"
        ],
        [
         "2019-01-02 17:00:00+00:00",
         "5081.76"
        ],
        [
         "2019-01-02 18:00:00+00:00",
         "4744.07"
        ],
        [
         "2019-01-02 19:00:00+00:00",
         "4410.61"
        ],
        [
         "2019-01-02 20:00:00+00:00",
         "4120.74"
        ],
        [
         "2019-01-02 21:00:00+00:00",
         "3811.0"
        ],
        [
         "2019-01-02 22:00:00+00:00",
         "3527.71"
        ],
        [
         "2019-01-02 23:00:00+00:00",
         "3361.87"
        ],
        [
         "2019-01-03 00:00:00+00:00",
         "3234.73"
        ],
        [
         "2019-01-03 01:00:00+00:00",
         "3198.97"
        ]
       ],
       "shape": {
        "columns": 1,
        "rows": 8760
       }
      },
      "text/html": [
       "<div>\n",
       "<style scoped>\n",
       "    .dataframe tbody tr th:only-of-type {\n",
       "        vertical-align: middle;\n",
       "    }\n",
       "\n",
       "    .dataframe tbody tr th {\n",
       "        vertical-align: top;\n",
       "    }\n",
       "\n",
       "    .dataframe thead th {\n",
       "        text-align: right;\n",
       "    }\n",
       "</style>\n",
       "<table border=\"1\" class=\"dataframe\">\n",
       "  <thead>\n",
       "    <tr style=\"text-align: right;\">\n",
       "      <th></th>\n",
       "      <th>DK_demand</th>\n",
       "    </tr>\n",
       "    <tr>\n",
       "      <th>utc_timestamp</th>\n",
       "      <th></th>\n",
       "    </tr>\n",
       "  </thead>\n",
       "  <tbody>\n",
       "    <tr>\n",
       "      <th>2019-01-01 00:00:00+00:00</th>\n",
       "      <td>3186.04</td>\n",
       "    </tr>\n",
       "    <tr>\n",
       "      <th>2019-01-01 01:00:00+00:00</th>\n",
       "      <td>3070.07</td>\n",
       "    </tr>\n",
       "    <tr>\n",
       "      <th>2019-01-01 02:00:00+00:00</th>\n",
       "      <td>2966.19</td>\n",
       "    </tr>\n",
       "    <tr>\n",
       "      <th>2019-01-01 03:00:00+00:00</th>\n",
       "      <td>2933.48</td>\n",
       "    </tr>\n",
       "    <tr>\n",
       "      <th>2019-01-01 04:00:00+00:00</th>\n",
       "      <td>2940.64</td>\n",
       "    </tr>\n",
       "    <tr>\n",
       "      <th>...</th>\n",
       "      <td>...</td>\n",
       "    </tr>\n",
       "    <tr>\n",
       "      <th>2019-12-31 19:00:00+00:00</th>\n",
       "      <td>3785.27</td>\n",
       "    </tr>\n",
       "    <tr>\n",
       "      <th>2019-12-31 20:00:00+00:00</th>\n",
       "      <td>3582.21</td>\n",
       "    </tr>\n",
       "    <tr>\n",
       "      <th>2019-12-31 21:00:00+00:00</th>\n",
       "      <td>3438.26</td>\n",
       "    </tr>\n",
       "    <tr>\n",
       "      <th>2019-12-31 22:00:00+00:00</th>\n",
       "      <td>3309.25</td>\n",
       "    </tr>\n",
       "    <tr>\n",
       "      <th>2019-12-31 23:00:00+00:00</th>\n",
       "      <td>3315.91</td>\n",
       "    </tr>\n",
       "  </tbody>\n",
       "</table>\n",
       "<p>8760 rows × 1 columns</p>\n",
       "</div>"
      ],
      "text/plain": [
       "                           DK_demand\n",
       "utc_timestamp                       \n",
       "2019-01-01 00:00:00+00:00    3186.04\n",
       "2019-01-01 01:00:00+00:00    3070.07\n",
       "2019-01-01 02:00:00+00:00    2966.19\n",
       "2019-01-01 03:00:00+00:00    2933.48\n",
       "2019-01-01 04:00:00+00:00    2940.64\n",
       "...                              ...\n",
       "2019-12-31 19:00:00+00:00    3785.27\n",
       "2019-12-31 20:00:00+00:00    3582.21\n",
       "2019-12-31 21:00:00+00:00    3438.26\n",
       "2019-12-31 22:00:00+00:00    3309.25\n",
       "2019-12-31 23:00:00+00:00    3315.91\n",
       "\n",
       "[8760 rows x 1 columns]"
      ]
     },
     "execution_count": 2,
     "metadata": {},
     "output_type": "execute_result"
    }
   ],
   "source": [
    "from DataGeneration import DataGeneration\n",
    "\n",
    "# Get the data for a certain year \n",
    "year = 2019\n",
    "region = 'DK'\n",
    "\n",
    "DK1_data = DataGeneration(year = year, region = region)\n",
    "\n",
    "DK1_data.demand"
   ]
  },
  {
   "cell_type": "code",
   "execution_count": null,
   "metadata": {},
   "outputs": [],
   "source": [
    "tmp = {'DK_1': \n",
    "            {'OCGT': True,\n",
    "            'CCGT': True,\n",
    "            'battery storage': True,\n",
    "            'onshore wind': True,\n",
    "            'solar': True},\n",
    "        'DE': {'OCGT': True,\n",
    "            'CCGT': True,\n",
    "            'battery storage': True,\n",
    "            'onshore wind': True,\n",
    "            'solar': True}}\n",
    "\n",
    "tmp['DE']\n",
    "\n"
   ]
  },
  {
   "cell_type": "markdown",
   "metadata": {},
   "source": [
    "# Task A"
   ]
  },
  {
   "cell_type": "code",
   "execution_count": 37,
   "metadata": {},
   "outputs": [],
   "source": [
    "setup = {'DK_1': \n",
    "                            {'OCGT': True,\n",
    "                            'CCGT': True,\n",
    "                            'battery storage': True,\n",
    "                            'onshore wind': True,\n",
    "                            'solar': True},\n",
    "        'DE':  {'OCGT': True,\n",
    "                'CCGT': True,\n",
    "                'battery storage': True,\n",
    "                'onshore wind': True,\n",
    "                'solar': True} }"
   ]
  },
  {
   "cell_type": "code",
   "execution_count": 24,
   "metadata": {},
   "outputs": [
    {
     "data": {
      "text/plain": [
       "array([3186.04, 3070.07, 2966.19, ..., 3438.26, 3309.25, 3315.91])"
      ]
     },
     "execution_count": 24,
     "metadata": {},
     "output_type": "execute_result"
    }
   ],
   "source": [
    "import numpy as np\n",
    "tmp.data_dict['DK']['Demand'].values.flatten()"
   ]
  },
  {
   "cell_type": "code",
   "execution_count": 7,
   "metadata": {},
   "outputs": [
    {
     "data": {
      "text/plain": [
       "560000"
      ]
     },
     "execution_count": 7,
     "metadata": {},
     "output_type": "execute_result"
    }
   ],
   "source": [
    "technology_data['onshorewind']['Capital_cost']\n",
    "\n"
   ]
  },
  {
   "cell_type": "markdown",
   "metadata": {},
   "source": [
    "Det er noteret at:"
   ]
  },
  {
   "cell_type": "code",
   "execution_count": 19,
   "metadata": {},
   "outputs": [
    {
     "data": {
      "image/png": "[encoded data removed]",
      "text/plain": [
       "<Figure size 640x480 with 1 Axes>"
      ]
     },
     "metadata": {},
     "output_type": "display_data"
    }
   ],
   "source": [
    "plt.plot(DataGeneration(year = 2019, region = 'DK_1').data['wind_offshore_generation_actual'].values)\n",
    "plt.show()\n"
   ]
  },
  {
   "cell_type": "code",
   "execution_count": 2,
   "metadata": {},
   "outputs": [
    {
     "name": "stdout",
     "output_type": "stream",
     "text": [
      "Year 2018 is greater than 2017, using data from last available year.\n",
      "Year 2019 is greater than 2017, using data from last available year.\n",
      "Year 2020 is greater than 2017, using data from last available year.\n"
     ]
    },
    {
     "data": {
      "image/png": "[encoded data removed]",
      "text/plain": [
       "<Figure size 1000x600 with 1 Axes>"
      ]
     },
     "metadata": {},
     "output_type": "display_data"
    },
    {
     "ename": "NameError",
     "evalue": "name 'plt' is not defined",
     "output_type": "error",
     "traceback": [
      "\u001b[1;31m---------------------------------------------------------------------------\u001b[0m",
      "\u001b[1;31mNameError\u001b[0m                                 Traceback (most recent call last)",
      "Cell \u001b[1;32mIn[2], line 11\u001b[0m\n\u001b[0;32m      8\u001b[0m years \u001b[38;5;241m=\u001b[39m [\u001b[38;5;241m2017\u001b[39m, \u001b[38;5;241m2018\u001b[39m, \u001b[38;5;241m2019\u001b[39m, \u001b[38;5;241m2020\u001b[39m]\n\u001b[0;32m     10\u001b[0m DurationCurve(years \u001b[38;5;241m=\u001b[39m years, region \u001b[38;5;241m=\u001b[39m region)\n\u001b[1;32m---> 11\u001b[0m \u001b[43mplt\u001b[49m\u001b[38;5;241m.\u001b[39mshow()\n",
      "\u001b[1;31mNameError\u001b[0m: name 'plt' is not defined"
     ]
    }
   ],
   "source": [
    "from DurationCurve import DurationCurve\n",
    "\n",
    "# region = 'DK_1'\n",
    "# region = 'DK_2'\n",
    "# region = 'NO'\n",
    "region = 'DE'\n",
    "\n",
    "years = [2017, 2018, 2019, 2020]\n",
    "\n",
    "DurationCurve(years = years, region = region)\n",
    "plt.show()"
   ]
  }
 ],
 "metadata": {
  "kernelspec": {
   "display_name": "ieg_env",
   "language": "python",
   "name": "python3"
  },
  "language_info": {
   "codemirror_mode": {
    "name": "ipython",
    "version": 3
   },
   "file_extension": ".py",
   "mimetype": "text/x-python",
   "name": "python",
   "nbconvert_exporter": "python",
   "pygments_lexer": "ipython3",
   "version": "3.11.4"
  }
 },
 "nbformat": 4,
 "nbformat_minor": 2
}
